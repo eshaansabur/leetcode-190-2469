{
 "cells": [
  {
   "cell_type": "code",
   "execution_count": 7,
   "id": "0a4a30e1-34b6-427e-a535-07642600ec1a",
   "metadata": {},
   "outputs": [
    {
     "data": {
      "text/plain": [
       "964176192"
      ]
     },
     "execution_count": 7,
     "metadata": {},
     "output_type": "execute_result"
    }
   ],
   "source": [
    "n= 43261596\n",
    "def reverseBits(n):\n",
    "    converted = \"{:032b}\".format(n)\n",
    "    reversed= converted[::-1]\n",
    "    reversed_decimal = int(reversed, 2)\n",
    "    return reversed_decimal\n",
    "\n",
    "reverseBits(n)"
   ]
  },
  {
   "cell_type": "code",
   "execution_count": 9,
   "id": "b791f7b8-6184-4881-bdfe-a94bf3df6ee3",
   "metadata": {},
   "outputs": [
    {
     "data": {
      "text/plain": [
       "[309.65, 97.7]"
      ]
     },
     "execution_count": 9,
     "metadata": {},
     "output_type": "execute_result"
    }
   ],
   "source": [
    "celsius = 36.50\n",
    "def convertTemperature(celsius):\n",
    "    c = celsius\n",
    "    k= c+ 273.15\n",
    "    f= c * 1.80 + 32.00\n",
    "    return [k, f]\n",
    "\n",
    "convertTemperature(celsius)"
   ]
  },
  {
   "cell_type": "code",
   "execution_count": null,
   "id": "89796d50-2085-4bd3-9da7-a400b4f6844b",
   "metadata": {},
   "outputs": [],
   "source": []
  }
 ],
 "metadata": {
  "kernelspec": {
   "display_name": "Python 3 (ipykernel)",
   "language": "python",
   "name": "python3"
  },
  "language_info": {
   "codemirror_mode": {
    "name": "ipython",
    "version": 3
   },
   "file_extension": ".py",
   "mimetype": "text/x-python",
   "name": "python",
   "nbconvert_exporter": "python",
   "pygments_lexer": "ipython3",
   "version": "3.11.7"
  }
 },
 "nbformat": 4,
 "nbformat_minor": 5
}
